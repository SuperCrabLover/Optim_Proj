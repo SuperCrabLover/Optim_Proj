{
 "cells": [
  {
   "cell_type": "code",
   "execution_count": 1,
   "id": "492da7bb",
   "metadata": {},
   "outputs": [],
   "source": [
    "import torch\n",
    "import torch.nn as nn\n",
    "import torch.nn.functional as F\n",
    "from torch.utils.data import TensorDataset\n",
    "from torch.utils.data import DataLoader\n",
    "import pandas  as pd\n",
    "import matplotlib.pyplot as plt\n",
    "import numpy as np\n",
    "from sklearn.linear_model import LogisticRegression\n",
    "from sklearn.preprocessing import StandardScaler\n",
    "from sklearn.metrics import confusion_matrix, classification_report\n",
    "from sklearn.model_selection import train_test_split\n",
    "from sklearn.datasets import make_classification\n",
    "from sklearn.metrics import plot_roc_curve, roc_curve, roc_auc_score\n",
    "from sklearn.linear_model import SGDClassifier\n",
    "import warnings\n",
    "warnings.filterwarnings('ignore')"
   ]
  },
  {
   "cell_type": "code",
   "execution_count": 6,
   "id": "6045291a",
   "metadata": {},
   "outputs": [],
   "source": [
    "X, y = make_classification(n_samples = 1000, n_clusters_per_class = 1, n_features=20, n_informative=20, n_redundant=0)\n",
    "X_train, X_test, y_train, y_test = train_test_split(X, y, test_size=0.33, random_state=42)\n",
    "X_test_tensor = torch.FloatTensor(X_test)\n",
    "y_test_tensor = torch.FloatTensor(y_test).reshape(y_test.size,1)\n",
    "X_tensor = torch.FloatTensor(X_train)\n",
    "y_tensor = torch.FloatTensor(y_train).reshape(y_train.size,1)\n",
    "train_ds = TensorDataset(X_tensor, y_tensor)\n",
    "batch_size = int(X_train.shape[0] / 10)\n",
    "train_dl = DataLoader(train_ds, batch_size)\n",
    "\n",
    "DIM = 20"
   ]
  },
  {
   "cell_type": "code",
   "execution_count": 7,
   "id": "0f3ab6de",
   "metadata": {},
   "outputs": [],
   "source": [
    "def normalize(vec):\n",
    "    return vec / np.linalg.norm(vec)\n",
    "\n",
    "def generate_UDV(d):\n",
    "    u = np.random.normal(size = d)\n",
    "    return normalize(u)\n",
    "\n",
    "def generate_UDV_comp_wise(d):\n",
    "    i = np.random.random_integers(0, d-1)\n",
    "    u = np.zeros(d)\n",
    "    u[i] = 1\n",
    "    return u\n",
    "    \n",
    "def stohastic_grad(model, xb, yb, loss_fn, gamma = 1e-2):\n",
    "    #From Smoothing Scheme\n",
    "    d = DIM\n",
    "    u = generate_UDV(d)\n",
    "    u_tens = torch.Tensor([u])\n",
    "    u_tens.float()\n",
    "    init = model.weight.data\n",
    "    \n",
    "    model.weight.data =  init + (u_tens * gamma) \n",
    "    pred = F.sigmoid(model(xb))\n",
    "    pred_plus = loss_fn(pred, yb)\n",
    "    \n",
    "    model.weight.data =  init - (u_tens * gamma)\n",
    "    pred = F.sigmoid(model(xb))\n",
    "    pred_minus = loss_fn(pred, yb)\n",
    "    \n",
    "    model.weight.data = init\n",
    "    \n",
    "    return d * (pred_plus - pred_minus) * u_tens / (2 * gamma)\n",
    "\n",
    "def stohastic_grad_comp_wise(model, xb, yb, loss_fn, gamma = 1e-2):\n",
    "    #From Smoothing Scheme\n",
    "    d = DIM\n",
    "    u = generate_UDV_comp_wise(d)\n",
    "    u_tens = torch.Tensor([u])\n",
    "    u_tens.float()\n",
    "    init = model.weight.data\n",
    "    \n",
    "    model.weight.data =  init + (u_tens * gamma) \n",
    "    pred = F.sigmoid(model(xb))\n",
    "    pred_plus = loss_fn(pred, yb)\n",
    "    \n",
    "    model.weight.data =  init - (u_tens * gamma)\n",
    "    pred = F.sigmoid(model(xb))\n",
    "    pred_minus = loss_fn(pred, yb)\n",
    "    \n",
    "    model.weight.data = init\n",
    "    \n",
    "    return d * (pred_plus - pred_minus) * u_tens / (2 * gamma)\n",
    "\n",
    "def two_dot_grad(model, xb, yb, loss_fn, gamma = 1e-2):\n",
    "    #Shamir 2017\n",
    "    d = DIM\n",
    "    u = generate_UDV(d)\n",
    "    u_tens = torch.Tensor([u])\n",
    "    u_tens.float()\n",
    "    init = model.weight.data\n",
    "    \n",
    "    pred = F.sigmoid(model(xb))\n",
    "    pred_zero = loss_fn(pred, yb)\n",
    "    \n",
    "    model.weight.data =  init + (u_tens * gamma)\n",
    "    pred = F.sigmoid(model(xb))\n",
    "    pred_plus = loss_fn(pred, yb)\n",
    "    \n",
    "    model.weight.data = init\n",
    "    \n",
    "    return d * (pred_plus - pred_zero) * u_tens / (gamma)\n",
    "\n",
    "def fit(num_epochs, model, loss_fn, optimizer, train_dl, lr = 1e-2):\n",
    "    # повторяем нужное число эпох\n",
    "    losses = []\n",
    "    for epoch in range(num_epochs):\n",
    "        loss = 0\n",
    "        model.train() # перенести раньше, если не выходим из режима обучения\n",
    "        for xb, yb in train_dl: # по батчам\n",
    "            pred = F.sigmoid(model(xb)) # прогнать прямой ход\n",
    "            loss = loss_fn(pred, yb) # вычислить ошибку\n",
    "            with torch.no_grad():\n",
    "                model.weight -= lr * optimizer(model, xb, yb, loss_fn) # изменить параметры\n",
    "        losses.append(loss.item())\n",
    "        if (epoch+1) % 1000 == 0: # прогресс\n",
    "            print('Epoch [{}/{}], Loss: {:.4f}'.format(epoch+1, num_epochs, loss.item()))\n",
    "    return losses"
   ]
  },
  {
   "cell_type": "code",
   "execution_count": 8,
   "id": "f4954967",
   "metadata": {},
   "outputs": [
    {
     "name": "stdout",
     "output_type": "stream",
     "text": [
      "Stohastic grad:\n",
      "Epoch [1000/3000], Loss: 0.0653\n",
      "Epoch [2000/3000], Loss: 0.0198\n",
      "Epoch [3000/3000], Loss: 0.0304\n"
     ]
    }
   ],
   "source": [
    "#Stohastic\n",
    "model = nn.Linear(DIM,1)\n",
    "model.weight.data = torch.Tensor([np.ones(DIM)])\n",
    "loss_fn = torch.nn.MSELoss()\n",
    "\n",
    "print(\"Stohastic grad:\")\n",
    "traj_sgd = []\n",
    "traj_sgd = fit(3000, model, loss_fn, stohastic_grad, train_dl)"
   ]
  },
  {
   "cell_type": "code",
   "execution_count": 9,
   "id": "af32ff1e",
   "metadata": {},
   "outputs": [
    {
     "name": "stdout",
     "output_type": "stream",
     "text": [
      "Stohastic grad COMPWISE:\n",
      "Epoch [1000/3000], Loss: 0.0843\n",
      "Epoch [2000/3000], Loss: 0.0265\n",
      "Epoch [3000/3000], Loss: 0.0263\n"
     ]
    }
   ],
   "source": [
    "#Stohastic COMPWISE\n",
    "model = nn.Linear(DIM,1)\n",
    "model.weight.data = torch.Tensor([np.ones(DIM)])\n",
    "loss_fn = torch.nn.MSELoss()\n",
    "\n",
    "print(\"Stohastic grad COMPWISE:\")\n",
    "traj_sgd_cw = []\n",
    "traj_sgd_cw = fit(3000, model, loss_fn, stohastic_grad_comp_wise, train_dl)"
   ]
  },
  {
   "cell_type": "code",
   "execution_count": 10,
   "id": "e4dd2dea",
   "metadata": {},
   "outputs": [
    {
     "name": "stdout",
     "output_type": "stream",
     "text": [
      "Two dot grad:\n",
      "Epoch [1000/3000], Loss: 0.0841\n",
      "Epoch [2000/3000], Loss: 0.0262\n",
      "Epoch [3000/3000], Loss: 0.0303\n"
     ]
    }
   ],
   "source": [
    "#Two dot 1\n",
    "model = nn.Linear(DIM,1)\n",
    "model.weight.data = torch.Tensor([np.ones(DIM)])\n",
    "loss_fn = torch.nn.MSELoss()\n",
    "\n",
    "print(\"Two dot grad:\")\n",
    "traj_tdg = []\n",
    "traj_tdg = fit(3000, model, loss_fn, two_dot_grad, train_dl)"
   ]
  },
  {
   "cell_type": "code",
   "execution_count": 15,
   "id": "45d7dc81",
   "metadata": {},
   "outputs": [
    {
     "data": {
      "image/png": "[encoded data removed]",
      "text/plain": [
       "<Figure size 432x288 with 1 Axes>"
      ]
     },
     "metadata": {
      "needs_background": "light"
     },
     "output_type": "display_data"
    }
   ],
   "source": [
    "plt.plot(np.array(range(len(traj_sgd))), traj_sgd, linewidth = 4, label = \"stohastic_grad\")\n",
    "plt.plot(np.array(range(len(traj_sgd_cw))), traj_sgd, label = \"stohastic_grad COMPWISE\")\n",
    "plt.plot(np.array(range(len(traj_tdg))), traj_tdg, label = \"two_dot_grad1\")\n",
    "plt.xlabel(\"Epoch\")\n",
    "plt.ylabel(\"Loss\")\n",
    "plt.yscale('log')\n",
    "plt.title(\"20 dim Binary classification\")\n",
    "plt.legend()\n",
    "plt.grid()\n",
    "plt.show()"
   ]
  },
  {
   "cell_type": "code",
   "execution_count": null,
   "id": "b673c820",
   "metadata": {},
   "outputs": [],
   "source": []
  }
 ],
 "metadata": {
  "kernelspec": {
   "display_name": "Python 3",
   "language": "python",
   "name": "python3"
  },
  "language_info": {
   "codemirror_mode": {
    "name": "ipython",
    "version": 3
   },
   "file_extension": ".py",
   "mimetype": "text/x-python",
   "name": "python",
   "nbconvert_exporter": "python",
   "pygments_lexer": "ipython3",
   "version": "3.6.13"
  }
 },
 "nbformat": 4,
 "nbformat_minor": 5
}
